{
 "cells": [
  {
   "cell_type": "code",
   "execution_count": 1,
   "metadata": {},
   "outputs": [],
   "source": [
    "import numpy as np  # numpy - manipulate the packet data returned by depthai\n",
    "import cv2  # opencv - display the video stream\n",
    "import depthai  # depthai - access the camera and its data packets\n",
    "import blobconverter  # blobconverter - compile and download MyriadX neural network blobs"
   ]
  },
  {
   "cell_type": "code",
   "execution_count": 2,
   "metadata": {},
   "outputs": [],
   "source": [
    "pipeline = depthai.Pipeline()\n",
    "\n",
    "cam_rgb = pipeline.create(depthai.node.ColorCamera)\n",
    "cam_rgb.setPreviewSize(300, 300)\n",
    "cam_rgb.setInterleaved(False)\n",
    "\n",
    "detection_nn = pipeline.create(depthai.node.MobileNetDetectionNetwork)\n",
    "detection_nn.setBlobPath(blobconverter.from_zoo(name='mobilenet-ssd', shaves=6))\n",
    "detection_nn.setConfidenceThreshold(0.5)\n",
    "\n",
    "cam_rgb.preview.link(detection_nn.input)\n",
    "\n",
    "xout_rgb = pipeline.create(depthai.node.XLinkOut)\n",
    "xout_rgb.setStreamName('rgb')\n",
    "cam_rgb.preview.link(xout_rgb.input)\n",
    "\n",
    "xout_nn = pipeline.create(depthai.node.XLinkOut)\n",
    "xout_nn.setStreamName('nn')\n",
    "detection_nn.out.link(xout_nn.input)"
   ]
  },
  {
   "cell_type": "code",
   "execution_count": 4,
   "metadata": {},
   "outputs": [],
   "source": [
    "with depthai.Device(pipeline) as device:\n",
    "    q_rgb = device.getOutputQueue('rgb')\n",
    "    q_nn = device.getOutputQueue('nn')\n",
    "\n",
    "    frame = None\n",
    "    detections = []\n",
    "\n",
    "    def frameNorm(frame, bbox):\n",
    "        normVals = np.full(len(bbox), frame.shape[0])\n",
    "        normVals[::2] = frame.shape[1]\n",
    "        return (np.clip(np.array(bbox), 0, 1) * normVals).astype(int)\n",
    "    \n",
    "    while True:\n",
    "\n",
    "        in_rgb = q_rgb.tryGet()\n",
    "        in_nn = q_nn.tryGet()\n",
    "\n",
    "        if in_rgb is not None:\n",
    "            frame = in_rgb.getCvFrame()\n",
    "        if in_nn is not None:\n",
    "            detections = in_nn.detections\n",
    "\n",
    "        if frame is not None:\n",
    "            for detection in detections:\n",
    "                bbox = frameNorm(frame, (detection.xmin, detection.ymin, detection.xmax, detection.ymax))\n",
    "                print(detection.label, bbox)\n",
    "                #print(bbox)\n",
    "                #cv2.rectangle(frame, (bbox[0], bbox[1]), (bbox[2], bbox[3]), (255,0,0), 2)\n",
    "            #cv2.imshow(\"preview\",frame)"
   ]
  },
  {
   "cell_type": "code",
   "execution_count": null,
   "metadata": {},
   "outputs": [],
   "source": []
  }
 ],
 "metadata": {
  "interpreter": {
   "hash": "e7370f93d1d0cde622a1f8e1c04877d8463912d04d973331ad4851f04de6915a"
  },
  "kernelspec": {
   "display_name": "Python 3.9.2 64-bit",
   "language": "python",
   "name": "python3"
  },
  "language_info": {
   "codemirror_mode": {
    "name": "ipython",
    "version": 3
   },
   "file_extension": ".py",
   "mimetype": "text/x-python",
   "name": "python",
   "nbconvert_exporter": "python",
   "pygments_lexer": "ipython3",
   "version": "3.9.2"
  },
  "orig_nbformat": 4
 },
 "nbformat": 4,
 "nbformat_minor": 2
}
